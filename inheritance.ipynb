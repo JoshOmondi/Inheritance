{
 "cells": [
  {
   "cell_type": "code",
   "execution_count": null,
   "id": "5e56346f",
   "metadata": {},
   "outputs": [],
   "source": [
    "class Animal:\n",
    "    def __init__(self, name, age, weight):\n",
    "        self.name = name\n",
    "        self.age = age\n",
    "        self.weight = weight\n",
    "\n",
    "    def make_sound(self):\n",
    "        print(f\"{self.name} of age {self.age} and of weight {self.weight} makes a very fun sound\")\n",
    "\n",
    "    def age_comparison(self):\n",
    "        return f\"So far, {self.name} of age {self.age} is the oldest animal in the group\"\n",
    "\n",
    "class Dog(Animal):\n",
    "    def __init__(self, name, age, color, weight, breed, height=100, carnivore=True):\n",
    "        super().__init__(name, age, weight)  # Pass the actual weight to the Animal class\n",
    "        self.color = color\n",
    "        self.breed = breed\n",
    "        self.carnivore = carnivore\n",
    "        self.height = height\n",
    "\n",
    "    def animal_records(self):\n",
    "        return f\"{self.name} of breed {self.breed} is a tall dog of height {self.height} and a carnivore: {self.carnivore}\"\n",
    "\n",
    "# ----- Create instances and print outputs -----\n",
    "\n",
    "a1 = Animal(\"Elephant\", 50, 5000)\n",
    "a1.make_sound()\n",
    "print(a1.age_comparison())\n",
    "\n",
    "print()  # spacer\n",
    "\n",
    "d1 = Dog(\"Rex\", 5, \"Brown\", 30, \"German Shepherd\", height=70, carnivore=True)\n",
    "d1.make_sound()  # Inherits from Animal\n",
    "print(d1.age_comparison())  # Inherits from Animal\n",
    "print(d1.animal_records())  # Dog-specific method\n"
   ]
  }
 ],
 "metadata": {
  "kernelspec": {
   "display_name": "base",
   "language": "python",
   "name": "python3"
  },
  "language_info": {
   "codemirror_mode": {
    "name": "ipython",
    "version": 3
   },
   "file_extension": ".py",
   "mimetype": "text/x-python",
   "name": "python",
   "nbconvert_exporter": "python",
   "pygments_lexer": "ipython3",
   "version": "3.12.7"
  }
 },
 "nbformat": 4,
 "nbformat_minor": 5
}
