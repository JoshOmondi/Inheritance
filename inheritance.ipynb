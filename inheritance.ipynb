{
 "cells": [
  {
   "cell_type": "code",
   "execution_count": 3,
   "id": "5e56346f",
   "metadata": {},
   "outputs": [],
   "source": [
    "class Animal:\n",
    "    def __init__(self, name,age,weight):\n",
    "        self.name= name\n",
    "        self.age= age\n",
    "        self.weight= weight\n",
    "\n",
    "    def make_sound(self):\n",
    "        print(f\"{self.name} of age {self.age} and of weight {self.weight} makes a very fun sound\")\n",
    "\n",
    "    def age_comparison(self):\n",
    "        return f\"so far {self.name} of age {self.age} is the oldest animal in the group\"\n",
    "\n",
    "class Dog(Animal):\n",
    "    def __init__(self,name,age,color,weight,breed,heiht=100,canivore= True):\n",
    "        super().__init__(name,age,heiht)\n",
    "        self.color= color\n",
    "        self.breed= breed\n",
    "        self.canivore= canivore\n",
    "        self.heiht= heiht\n",
    "\n",
    "    def animal_records(self):\n",
    "        return f\"{self.name} of {self.breed} is a tall dog of {self.heiht} and a {self.canivore}\"\n"
   ]
  }
 ],
 "metadata": {
  "kernelspec": {
   "display_name": "base",
   "language": "python",
   "name": "python3"
  },
  "language_info": {
   "codemirror_mode": {
    "name": "ipython",
    "version": 3
   },
   "file_extension": ".py",
   "mimetype": "text/x-python",
   "name": "python",
   "nbconvert_exporter": "python",
   "pygments_lexer": "ipython3",
   "version": "3.12.7"
  }
 },
 "nbformat": 4,
 "nbformat_minor": 5
}
